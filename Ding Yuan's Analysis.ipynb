{
 "cells": [
  {
   "cell_type": "markdown",
   "id": "convenient-edition",
   "metadata": {},
   "source": [
    "Healthcare Dataset Challenge: The task is to analyze the clinical and financial data of patients hospitalized for a certain condition. It is attached with this email. Some variable names and patient_id's have been anonymized in this dataset. **You are required to join the data given in different tables, and find insights about the drivers of cost of care.** Please see attached documents for datasets.\n",
    " \n",
    "For this challenge, you will be given 1-1.5 weeks, at the end of which we expect you to share your code (github repository) and a document/slides describing your approach and results, insights etc. This position requires strong communication and visualization skills. Your slide design, narrative and content as well your presentation will be judged not only for technical but communication skills as well.\n",
    "\n"
   ]
  },
  {
   "cell_type": "code",
   "execution_count": null,
   "id": "hybrid-looking",
   "metadata": {},
   "outputs": [],
   "source": [
    "import pandas as pd\n",
    "import datetime\n",
    "import matplotlib.pyplot as plt\n",
    "import seaborn as sns\n",
    "bill_amount = pd.read_csv(\"/Users/chuadingyuan/Downloads/Healthcare Data Challenge Data/bill_amount.csv\")\n",
    "bill_id = pd.read_csv(\"/Users/chuadingyuan/Downloads/Healthcare Data Challenge Data/bill_id.csv\")\n",
    "demographics = pd.read_csv(\"/Users/chuadingyuan/Downloads/Healthcare Data Challenge Data/demographics.csv\")\n",
    "clinical_data = pd.read_csv(\"/Users/chuadingyuan/Downloads/Healthcare Data Challenge Data/clinical_data.csv\")\n"
   ]
  },
  {
   "cell_type": "markdown",
   "id": "fifth-corrections",
   "metadata": {},
   "source": [
    "First start with checking what the data looks like"
   ]
  },
  {
   "cell_type": "code",
   "execution_count": null,
   "id": "naval-phone",
   "metadata": {},
   "outputs": [],
   "source": [
    "print(bill_amount.shape)\n",
    "print(bill_amount.describe())\n",
    "bill_amount.head()\n",
    "# shows the bill id and amount"
   ]
  },
  {
   "cell_type": "code",
   "execution_count": null,
   "id": "indian-westminster",
   "metadata": {},
   "outputs": [],
   "source": [
    "print(bill_id.shape)\n",
    "print(bill_id.describe())\n",
    "bill_id.head()\n",
    "# shows bill id,patient id and date of admission"
   ]
  },
  {
   "cell_type": "code",
   "execution_count": null,
   "id": "accessible-runner",
   "metadata": {},
   "outputs": [],
   "source": [
    "print(demographics.shape)\n",
    "print(demographics.describe())\n",
    "demographics.head()"
   ]
  },
  {
   "cell_type": "code",
   "execution_count": null,
   "id": "working-vatican",
   "metadata": {},
   "outputs": [],
   "source": [
    "print(clinical_data.shape)\n",
    "print(clinical_data.describe())\n",
    "clinical_data.head()"
   ]
  },
  {
   "cell_type": "markdown",
   "id": "pleased-staff",
   "metadata": {},
   "source": [
    "Now combine datasets together to analyse"
   ]
  },
  {
   "cell_type": "code",
   "execution_count": null,
   "id": "mature-beverage",
   "metadata": {},
   "outputs": [],
   "source": [
    "combined_bill = bill_amount.set_index(['bill_id']).join(bill_id.set_index(\"bill_id\"))\n",
    "combined_bill = combined_bill.sort_values(by=\"date_of_admission\").sort_values(by='patient_id').reset_index()\n",
    "print(combined_bill.describe())\n",
    "combined_bill.head()\n",
    "# combining the 2 bill dataset for further analysis"
   ]
  },
  {
   "cell_type": "code",
   "execution_count": null,
   "id": "preliminary-lawyer",
   "metadata": {},
   "outputs": [],
   "source": [
    "patient_visit_bill = combined_bill.groupby(['patient_id','date_of_admission']).amount.sum().sort_values().reset_index()\n",
    "print(patient_visit_bill.describe())\n",
    "patient_visit_bill\n",
    "# by grouping patient id and date of admission \n",
    "# we can find the total bill for each visit"
   ]
  },
  {
   "cell_type": "code",
   "execution_count": null,
   "id": "technical-simon",
   "metadata": {},
   "outputs": [],
   "source": [
    "# function to calculate age based on date of birth\n",
    "def age(row):\n",
    "    years = datetime.datetime.today().year - datetime.datetime.strptime(row['date_of_birth'], '%Y-%m-%d').date().year\n",
    "    return years\n",
    "\n",
    "# adding age to demographics for further analysis \n",
    "demographics['age'] = demographics.apply(lambda row:age(row), axis=1)\n",
    "print(demographics.shape)\n",
    "demographics"
   ]
  },
  {
   "cell_type": "code",
   "execution_count": null,
   "id": "better-promotion",
   "metadata": {},
   "outputs": [],
   "source": [
    "# renaming column to standardise\n",
    "clinical_data = clinical_data.rename(columns = {'id':'patient_id'}).sort_values(by='patient_id')\n",
    "\n",
    "#sort demographics rows to match clinical_data\n",
    "demographics = demographics.sort_values(by='patient_id')\n",
    "\n",
    "# calculating number of times each patient was admitted and adding to dataframe\n",
    "demographics['admission_count'] = list(clinical_data.groupby(['patient_id']).date_of_admission.count())\n",
    "demographics[demographics.patient_id == 'f86a66c44517989f2d4c0fffb46eb637']\n",
    "patient_visit_bill_demo = patient_visit_bill.set_index('patient_id').join(demographics.set_index('patient_id')).reset_index()\n",
    "patient_visit_bill_demo[patient_visit_bill_demo.patient_id == 'f86a66c44517989f2d4c0fffb46eb637']\n"
   ]
  },
  {
   "cell_type": "code",
   "execution_count": null,
   "id": "earlier-remains",
   "metadata": {},
   "outputs": [],
   "source": [
    "# function to calculate length of stay\n",
    "def length_of_stay(row):\n",
    "    admitted = datetime.datetime.strptime(row['date_of_admission'], '%Y-%m-%d').date()\n",
    "    discharged = datetime.datetime.strptime(row['date_of_discharge'], '%Y-%m-%d').date()\n",
    "    return (discharged-admitted).days\n",
    "\n",
    "# adding length of stay of each visit column to dataframe\n",
    "clinical_data['length_of_stay'] = clinical_data.apply(lambda row:length_of_stay(row), axis=1)\n",
    "print(clinical_data.describe())\n",
    "clinical_data"
   ]
  },
  {
   "cell_type": "code",
   "execution_count": null,
   "id": "entitled-telescope",
   "metadata": {},
   "outputs": [],
   "source": [
    "# function to standardise race string into integers\n",
    "def race(row):\n",
    "    if row['race'] == 'Chinese' or row['race'] == 'chinese':\n",
    "        return 1\n",
    "    elif row['race'] == 'Indian' or row['race'] == 'India':\n",
    "        return 2\n",
    "    elif row['race'] == 'Malay':\n",
    "        return 3\n",
    "    elif row['race'] == 'Others':\n",
    "        return 4\n",
    "\n",
    "# function to standardise resident status string into integers\n",
    "def rstatus(row):\n",
    "    if row['resident_status'] == 'Singaporean' or row['resident_status'] == 'Singapore citizen':\n",
    "        return 1\n",
    "    elif row['resident_status'] == 'PR':\n",
    "        return 2\n",
    "    elif row['resident_status'] == 'Foreigner':\n",
    "        return 3\n",
    "\n",
    "# function to standardise gender string into integers\n",
    "def gender(row):\n",
    "    if row['gender'] == 'Male' or row['gender'] == 'm':\n",
    "        return 1\n",
    "    elif row['gender'] == 'Female' or row['gender'] =='f':\n",
    "        return 2"
   ]
  },
  {
   "cell_type": "code",
   "execution_count": null,
   "id": "heavy-field",
   "metadata": {},
   "outputs": [],
   "source": [
    "# to combine all data sets together based on each admission\n",
    "info_per_visit = clinical_data.set_index(['patient_id','date_of_admission']).join(patient_visit_bill_demo.set_index(['patient_id','date_of_admission'])).reset_index()\n",
    "info_per_visit['date_of_admission'] = info_per_visit['date_of_admission'].apply(lambda row:datetime.datetime.strptime(row, '%Y-%m-%d').date().month)\n",
    "\n",
    "# check which columns have na\n",
    "#print(info_per_visit.isnull().apply(sum))\n",
    "# get rid of null data\n",
    "info_per_visit=info_per_visit.fillna(0)\n",
    "\n",
    "# standardise medical history data into integer\n",
    "info_per_visit['medical_history_3']=info_per_visit.medical_history_3.replace({\"No\":0, \"Yes\":1, \"0\":0,\"1\":1})\n",
    "info_per_visit['medical_history_2']=info_per_visit['medical_history_2'].apply(lambda x:int(x))\n",
    "info_per_visit['medical_history_5']=info_per_visit['medical_history_5'].apply(lambda x:int(x))\n",
    "\n",
    "# standardise personal info data into integer \n",
    "info_per_visit['race'] = info_per_visit.apply(lambda row:race(row),axis=1)\n",
    "info_per_visit['resident_status'] = info_per_visit.apply(lambda row:rstatus(row),axis=1)\n",
    "info_per_visit['gender'] = info_per_visit.apply(lambda row:gender(row),axis=1)\n",
    "\n",
    "\n",
    "# calculating total number of med history, symptom, preop med of each admission \n",
    "info_per_visit['MH_total'] = info_per_visit[['medical_history_1', 'medical_history_2','medical_history_3', 'medical_history_4', 'medical_history_5', 'medical_history_6', 'medical_history_7']].sum(axis=1)\n",
    "info_per_visit['symptom_total'] = info_per_visit[['symptom_1','symptom_2', 'symptom_3', 'symptom_4', 'symptom_5']].sum(axis=1)\n",
    "info_per_visit['PM_total'] = info_per_visit[['preop_medication_1', 'preop_medication_2', 'preop_medication_3', 'preop_medication_4', 'preop_medication_5', 'preop_medication_6']].sum(axis=1)\n",
    "\n",
    "# rearrange the columns for easy reference\n",
    "# first, get list on columns\n",
    "print(list(info_per_visit.columns))\n",
    "# second, rearrange columns\n",
    "cols = ['patient_id','admission_count','length_of_stay','age','amount', 'MH_total', 'symptom_total', 'PM_total','gender', 'race', 'resident_status', 'symptom_1', \n",
    "        'symptom_2', 'symptom_3', 'symptom_4', 'symptom_5','medical_history_1', 'medical_history_2', \n",
    "        'medical_history_3', 'medical_history_4', 'medical_history_5', 'medical_history_6', 'medical_history_7', \n",
    "        'preop_medication_1', 'preop_medication_2', 'preop_medication_3', 'preop_medication_4', \n",
    "        'preop_medication_5', 'preop_medication_6', 'lab_result_1', 'lab_result_2', 'lab_result_3', 'weight', \n",
    "        'height',  'date_of_birth','date_of_admission', 'date_of_discharge']\n",
    "\n",
    "info_per_visit = info_per_visit[cols]\n",
    "# final combination of all datasets to show total bills, demographics, clinical data \n",
    "# and some extra information for each patient id for each visit\n",
    "info_per_visit"
   ]
  },
  {
   "cell_type": "markdown",
   "id": "anonymous-stack",
   "metadata": {},
   "source": [
    "Now we can begin analysing the dataset"
   ]
  },
  {
   "cell_type": "code",
   "execution_count": null,
   "id": "caroline-bradley",
   "metadata": {},
   "outputs": [],
   "source": [
    "info_per_visit.describe()"
   ]
  },
  {
   "cell_type": "code",
   "execution_count": null,
   "id": "developed-ghana",
   "metadata": {
    "scrolled": true
   },
   "outputs": [],
   "source": [
    "# plot pie charts to get a clearer visualisation\n",
    "race = info_per_visit.groupby('race').patient_id.count()\n",
    "print(race)\n",
    "\n",
    "resident_status = info_per_visit.groupby('resident_status').patient_id.count()\n",
    "print(resident_status)\n",
    "\n",
    "#chart for race\n",
    "pie, ax = plt.subplots(figsize=[10,6])\n",
    "labels = ['Chinese','Indian','Malay','Others']\n",
    "plt.pie(x=race, autopct=\"%.1f%%\", explode=[0.05]*4, labels=labels, pctdistance=0.5)\n",
    "plt.title(\"Race\", fontsize=14);\n",
    "pie.savefig(\"Race.png\")\n",
    "\n",
    "#chart for resident_status\n",
    "pie, ax = plt.subplots(figsize=[10,6])\n",
    "labels = ['Singaporean','PR','Foreigner']\n",
    "plt.pie(x=resident_status, autopct=\"%.1f%%\", explode=[0.05]*3, labels=labels, pctdistance=0.5)\n",
    "plt.title(\"Resident Status\", fontsize=14);\n",
    "pie.savefig(\"Resident Status.png\")"
   ]
  },
  {
   "cell_type": "code",
   "execution_count": null,
   "id": "specialized-concert",
   "metadata": {
    "scrolled": true
   },
   "outputs": [],
   "source": [
    "# checking for correlation between amount billed and other variables \n",
    "print(info_per_visit.corr().amount.sort_values())\n",
    "\n",
    "# checking correlation for every variable\n",
    "plt.gcf().set_size_inches((20, 20))\n",
    "sns.heatmap(info_per_visit.corr())\n",
    "# medical history 1,6 symptom 1-5"
   ]
  },
  {
   "cell_type": "code",
   "execution_count": null,
   "id": "literary-slave",
   "metadata": {},
   "outputs": [],
   "source": [
    "pd.set_option('max_columns', None)\n",
    "info_per_visit.sort_values(by=\"amount\",ascending = False).head(100)"
   ]
  },
  {
   "cell_type": "code",
   "execution_count": null,
   "id": "burning-benefit",
   "metadata": {
    "scrolled": true
   },
   "outputs": [],
   "source": [
    "# check whether number of admission contribute to amount paid\n",
    "admission_vs_amount = info_per_visit.groupby(['patient_id','admission_count']).amount.sum().reset_index()\n",
    "admission_vs_amount['avg_per_visit']= admission_vs_amount.amount / admission_vs_amount.admission_count\n",
    "\n",
    "# top 50 avg amount billed per visit\n",
    "top50 = admission_vs_amount.sort_values(by='avg_per_visit',ascending=False).head(50)\n",
    "top50\n",
    "\n",
    "# sanity checks\n",
    "#info_per_visit[info_per_visit.patient_id == '6f4d80977932f6d83ab5ae491f574c25']\n",
    "#info_per_visit.sort_values(by='amount',ascending=False)\n",
    "#admission_vs_amount[admission_vs_amount.patient_id == '6f4d80977932f6d83ab5ae491f574c25']"
   ]
  },
  {
   "cell_type": "code",
   "execution_count": null,
   "id": "funny-favorite",
   "metadata": {},
   "outputs": [],
   "source": [
    "print(admission_vs_amount.groupby('admission_count').avg_per_visit.mean())\n",
    "def autolabel(rects):\n",
    "    \"\"\"Attach a text label above each bar in *rects*, displaying its height.\"\"\"\n",
    "    for rect in rects:\n",
    "        height = rect.get_height()\n",
    "        ax.annotate('{}'.format(height),\n",
    "                    xy=(rect.get_x() + rect.get_width() / 2, height),\n",
    "                    xytext=(0, 3),  # 3 points vertical offset\n",
    "                    textcoords=\"offset points\",\n",
    "                    ha='center', va='bottom')\n",
    "\n",
    "bar, ax = plt.subplots(figsize=[10,6])\n",
    "labels = [1,2,3,4]\n",
    "AC = plt.bar(x=labels,height=admission_vs_amount.groupby('admission_count').avg_per_visit.mean().astype(int),\n",
    "       tick_label=labels)\n",
    "autolabel(AC)\n",
    "plt.title(\"Amount Billed by Admission Count\", fontsize=14);\n",
    "bar.savefig(\"Amount Billed by Admission Count.png\")"
   ]
  },
  {
   "cell_type": "code",
   "execution_count": null,
   "id": "starting-angola",
   "metadata": {},
   "outputs": [],
   "source": [
    "# check if these top 50 billed per visit people have anything in common\n",
    "top50_clinical_data=info_per_visit.loc[info_per_visit.patient_id.isin(list(top50['patient_id']))]\n",
    "top50_clinical_data.describe()\n",
    "print(top50_clinical_data.groupby('race').patient_id.count())\n",
    "print(top50_clinical_data.groupby('resident_status').patient_id.count())\n",
    "# preop med 3,5,6 appeard in >76% of patients\n",
    "# all symptoms appeared in >72% of patients\n",
    "# 35/50 patients were malay\n",
    "# 40/50 patients were foreigners"
   ]
  },
  {
   "cell_type": "code",
   "execution_count": null,
   "id": "printable-picnic",
   "metadata": {},
   "outputs": [],
   "source": [
    "plt.gcf().set_size_inches((20, 20))\n",
    "sns.heatmap(top50_clinical_data.corr())\n",
    "# no variables wtih correlation to amount"
   ]
  },
  {
   "cell_type": "code",
   "execution_count": null,
   "id": "hungarian-aging",
   "metadata": {},
   "outputs": [],
   "source": [
    "# plotting pie charts to illustrate data\n",
    "\n",
    "# breakdown of race in top 50\n",
    "top50_race = top50_clinical_data.groupby('race').patient_id.count()\n",
    "pie, ax = plt.subplots(figsize=[10,6])\n",
    "labels = ['Chinese','Indian','Malay','Others']\n",
    "plt.pie(x=top50_race, autopct=\"%.1f%%\", explode=[0.05]*4, labels=labels, pctdistance=0.5)\n",
    "plt.title(\"Top 50 by Race\", fontsize=14);\n",
    "pie.savefig(\"Top 50 by Race.png\")\n",
    "\n",
    "# breakdown of resident status in top 50\n",
    "top50_resident = top50_clinical_data.groupby('resident_status').patient_id.count()\n",
    "pie, ax = plt.subplots(figsize=[10,6])\n",
    "labels = ['Singaporean','PR','Foreigner']\n",
    "plt.pie(x=top50_resident, autopct=\"%.1f%%\", explode=[0.05]*3, labels=labels, pctdistance=0.5)\n",
    "plt.title(\"Top 50 by Resident_status\", fontsize=14);\n",
    "pie.savefig(\"Top 50 by Resident_status.png\")\n",
    "\n",
    "# breakdown of average amount billed by race in top 50\n",
    "bar, ax = plt.subplots(figsize=[10,6])\n",
    "labels = ['Chinese','Indian','Malay','Others']\n",
    "plt.bar(x=labels,height=info_per_visit.groupby('race').amount.mean())\n",
    "plt.title(\"Amount Billed by Race\", fontsize=14);\n",
    "pie.savefig(\"Amount Billed by Race.png\")\n",
    "\n",
    "# breakdown of average amount billed by resident status in top 50\n",
    "bar, ax = plt.subplots(figsize=[10,6])\n",
    "labels = ['Singaporean','PR','Foreigner']\n",
    "plt.bar(x=labels, height=info_per_visit.groupby('resident_status').amount.mean())\n",
    "plt.title(\"Amount Billed by Resident_status\", fontsize=14);\n",
    "pie.savefig(\"Amount Billed by Resident_status.png\")\n",
    "\n",
    "print(info_per_visit.groupby('race').amount.mean())\n",
    "print((29506-(19118+23682+21320)/3)/((19118+23682+21320)/3))\n",
    "print(info_per_visit.groupby('resident_status').amount.mean())\n",
    "print((41703-(20211+24370)/2)/((20211+24370)/2))"
   ]
  },
  {
   "cell_type": "markdown",
   "id": "functional-might",
   "metadata": {},
   "source": [
    "Splitting Data into groups to compare against amount billed for each visit\n",
    "\n",
    "length of stay vs amount\n",
    "\n",
    "personal info vs amount\n",
    "\n",
    "lab results vs amount\n",
    "\n",
    "preopmedication vs amount\n",
    "\n",
    "symptom vs amount"
   ]
  },
  {
   "cell_type": "code",
   "execution_count": null,
   "id": "fifth-depression",
   "metadata": {},
   "outputs": [],
   "source": [
    "print(info_per_visit.groupby(['length_of_stay']).amount.mean().sort_values())\n",
    "info_per_visit.groupby(['length_of_stay']).amount.describe()\n",
    "plt.plot(info_per_visit.groupby(['length_of_stay']).amount.mean())"
   ]
  },
  {
   "cell_type": "code",
   "execution_count": null,
   "id": "colonial-demonstration",
   "metadata": {},
   "outputs": [],
   "source": [
    "symptom = info_per_visit.loc[:,['amount','symptom_total','symptom_1', 'symptom_2', 'symptom_3','symptom_4', 'symptom_5']]\n",
    "\n",
    "print(((s1+s2+s3+s4+s5)/5-s0)/s0)\n",
    "print(symptom.iloc[:,1:].sum())\n",
    "s0 = symptom.loc[symptom.symptom_total==0].amount.mean()\n",
    "s1 = symptom.loc[symptom.symptom_1>0].amount.mean()\n",
    "s2 = symptom.loc[symptom.symptom_2>0].amount.mean()\n",
    "s3 = symptom.loc[symptom.symptom_3>0].amount.mean()\n",
    "s4 = symptom.loc[symptom.symptom_4>0].amount.mean()\n",
    "s5 = symptom.loc[symptom.symptom_5>0].amount.mean()\n",
    "symptom.sort_values(by='amount',ascending=False).head(100)\n",
    "print(symptom.groupby('symptom_total').amount.mean())\n",
    "\n",
    "'''plt.plot(symptom.groupby('symptom_total').amount.mean())\n",
    "top50_symptom = [s1,s2,s3,s4,s5]\n",
    "pie, ax = plt.subplots(figsize=[10,6])\n",
    "labels = ['symptom_1', 'symptom_2', 'symptom_3', 'symptom_4', 'symptom_5']\n",
    "plt.pie(x=top50_symptom, autopct=\"%.1f%%\", explode=[0.05]*5, labels=labels, pctdistance=0.5)\n",
    "plt.title(\"Top 50 by Symptom\", fontsize=14);\n",
    "pie.savefig(\"Top 50 by Symptom.png\")\n",
    "top50_symptom'''\n",
    "\n",
    "fig, axs = plt.subplots(1, 2)\n",
    "plt.gcf().set_size_inches((14,8))\n",
    "\n",
    "S_T = [s0,s1,s2,s3,s4,s5]\n",
    "print(S_T)\n",
    "labels = ['None','symptom_1', 'symptom_2', 'symptom_3', 'symptom_4', 'symptom_5']\n",
    "axs[0].plot(labels,S_T)\n",
    "axs[0].set_title(\"Patients Who Have Symptom No.\", fontsize=14);\n",
    "\n",
    "axs[1].plot(symptom.groupby('symptom_total').amount.mean(),'tab:orange')\n",
    "axs[1].set_title(\"No. of Symptoms Per Patient\", fontsize=14);\n",
    "\n",
    "\n",
    "plt.suptitle(\"Amount Billed vs Symptoms Per Patient Data\", fontsize=18);\n",
    "plt.savefig(\"Amount Billed vs Symptoms Per Patient Data.png\")\n",
    "# checking symptoms against amount of hospital bill\n",
    "# if you have symptom 1,2,4 you on average pay 23K, symptom 3 24K, symptom 5 27K\n",
    "# if patient have all symptoms they pay more, mean =31K\n",
    "# linear relationship between number of symptoms and amount of bill\n"
   ]
  },
  {
   "cell_type": "code",
   "execution_count": null,
   "id": "friendly-digit",
   "metadata": {
    "scrolled": true
   },
   "outputs": [],
   "source": [
    "personal_info = info_per_visit.loc[:,['amount','weight', 'height', 'gender', 'race','resident_status','age']]\n",
    "\n",
    "\n",
    "# plot individual personal info against amount\n",
    "fig, axs = plt.subplots(2, 3)\n",
    "plt.gcf().set_size_inches((18,12))\n",
    "axs[0,0].plot(personal_info.sort_values(by='age').age,personal_info['amount']) \n",
    "axs[0,0].set_title('age',fontsize=14)\n",
    "\n",
    "axs[0,2].plot(['Singaporean','PR','Foreigner'],personal_info.groupby('resident_status').amount.mean(),'tab:orange') \n",
    "axs[0,2].set_title('resident_status',fontsize=14)\n",
    "\n",
    "axs[0,1].plot(['Male','Female'],personal_info.groupby('gender').amount.mean()) \n",
    "axs[0,1].set_title('gender',fontsize=14)\n",
    "\n",
    "axs[1,0].plot(personal_info.groupby('weight').amount.mean())\n",
    "axs[1,0].set_title('weight',fontsize=14)\n",
    "\n",
    "axs[1,1].plot(personal_info.groupby('height').amount.mean())\n",
    "axs[1,1].set_title('height',fontsize=14)\n",
    "\n",
    "axs[1,2].plot(['Chinese','Indian','Malay','Others'],personal_info.groupby('race').amount.mean(),'tab:orange')\n",
    "axs[1,2].set_title('race',fontsize=14)\n",
    "\n",
    "plt.suptitle(\"Amount Billed vs Personal Info\", fontsize=18);\n",
    "plt.savefig(\"Amount Billed vs Personal Info.png\")\n",
    "\n",
    "# checking personal info? against amount of hospital bill\n",
    "# foreigners pay more\n",
    "# malay pay more"
   ]
  },
  {
   "cell_type": "code",
   "execution_count": null,
   "id": "geological-taxation",
   "metadata": {},
   "outputs": [],
   "source": [
    "medical_history = info_per_visit.loc[:,['amount','MH_total','medical_history_1', 'medical_history_2', 'medical_history_3',\n",
    "                                        'medical_history_4', 'medical_history_5', 'medical_history_6',\n",
    "                                        'medical_history_7']]\n",
    "print(((mh1+mh2+mh3+mh4+mh5+mh6+mh7)/7-mh0)/mh0)\n",
    "print(medical_history.iloc[:,1:].sum())\n",
    "mh0 = medical_history.loc[medical_history.MH_total == 0].amount.mean()\n",
    "mh1 = medical_history.loc[medical_history.medical_history_1>0].amount.mean()\n",
    "mh2 = medical_history.loc[medical_history.medical_history_2>0].amount.mean()\n",
    "mh3 = medical_history.loc[medical_history.medical_history_3>0].amount.mean()\n",
    "mh4 = medical_history.loc[medical_history.medical_history_4>0].amount.mean()\n",
    "mh5 = medical_history.loc[medical_history.medical_history_5>0].amount.mean()\n",
    "mh6 = medical_history.loc[medical_history.medical_history_6>0].amount.mean()\n",
    "mh7 = medical_history.loc[medical_history.medical_history_7>0].amount.mean()\n",
    "\n",
    "print(medical_history.groupby('MH_total').amount.mean())\n",
    "fig, axs = plt.subplots(1, 2)\n",
    "plt.gcf().set_size_inches((12,8))\n",
    "\n",
    "MH_T = [mh0,mh1,mh2,mh3,mh4,mh5,mh6,mh7]\n",
    "print(MH_T)\n",
    "labels = [0,1,2,3,4,5,6,7]\n",
    "axs[0].plot(labels,MH_T)\n",
    "axs[0].set_title(\"Patients Who Have Medical History No.\", fontsize=14);\n",
    "\n",
    "axs[1].plot(medical_history.groupby('MH_total').amount.mean(),'tab:orange')\n",
    "axs[1].set_title(\"No. of Medical History Per Patient\", fontsize=14);\n",
    "\n",
    "\n",
    "plt.suptitle(\"Amount Billed vs Medical History Data\", fontsize=18);\n",
    "plt.savefig(\"Amount Billed vs Medical History Data.png\")\n",
    "\n",
    "# checking medical histories against amount of hospital bill\n",
    "# 1: 27K, (2,3,4):22K, (5,7):23K, (6):24K"
   ]
  },
  {
   "cell_type": "code",
   "execution_count": null,
   "id": "lined-acrylic",
   "metadata": {
    "scrolled": true
   },
   "outputs": [],
   "source": [
    "lab_result = info_per_visit.loc[:,['amount','lab_result_1', 'lab_result_2','lab_result_3']]\n",
    "print(lab_result.describe())\n",
    "lab_result\n",
    "# checking lab_result against amount of hospital bill\n",
    "# all same bill , no trend either for different levels of lab result"
   ]
  },
  {
   "cell_type": "code",
   "execution_count": null,
   "id": "lyric-broadcasting",
   "metadata": {},
   "outputs": [],
   "source": [
    "preop_medication = info_per_visit.loc[:,['amount','PM_total','preop_medication_1', 'preop_medication_2',\n",
    "                                         'preop_medication_3', 'preop_medication_4', 'preop_medication_5',\n",
    "                                         'preop_medication_6']]\n",
    "print(((pm1+pm2+pm3+pm4+pm5+pm6)/6-pm0)/pm0)\n",
    "\n",
    "# checking preop_medication against amount of hospital bill\n",
    "# if you have one or more preop med, amount increases linearly\n",
    "# exlcuding 0 preop medication\n",
    "\n",
    "print(medical_history.iloc[:,1:].sum())\n",
    "pm0 = preop_medication.loc[preop_medication.PM_total==0].amount.mean()\n",
    "pm1 = preop_medication.loc[preop_medication.preop_medication_1>0].amount.mean()\n",
    "pm2 = preop_medication.loc[preop_medication.preop_medication_2>0].amount.mean()\n",
    "pm3 = preop_medication.loc[preop_medication.preop_medication_3>0].amount.mean()\n",
    "pm4 = preop_medication.loc[preop_medication.preop_medication_4>0].amount.mean()\n",
    "pm5 = preop_medication.loc[preop_medication.preop_medication_5>0].amount.mean()\n",
    "pm6 = preop_medication.loc[preop_medication.preop_medication_6>0].amount.mean()\n",
    "\n",
    "\n",
    "print(preop_medication.groupby('PM_total').amount.mean())\n",
    "fig, axs = plt.subplots(1, 2)\n",
    "plt.gcf().set_size_inches((10,6))\n",
    "\n",
    "PM_T = [pm0,pm1,pm2,pm3,pm4,pm5,pm6]\n",
    "print(PM_T)\n",
    "labels = [0,1,2,3,4,5,6]\n",
    "axs[0].plot(PM_T)\n",
    "axs[0].set_title(\"Preop Medication No. Used\", fontsize=14);\n",
    "\n",
    "axs[1].plot(preop_medication.groupby('PM_total').amount.mean(),'tab:orange')\n",
    "axs[1].set_title(\"No. of Preop Medication Used\", fontsize=14);\n",
    "\n",
    "\n",
    "plt.suptitle(\"Amount Billed vs Preop Medication Data\", fontsize=18);\n",
    "plt.savefig(\"Amount Billed vs Preop Medication Data.png\")\n",
    "\n",
    "\n"
   ]
  },
  {
   "cell_type": "code",
   "execution_count": null,
   "id": "rocky-saint",
   "metadata": {},
   "outputs": [],
   "source": [
    "lr1 = lab_result.groupby('lab_result_1').amount.mean().sort_values()\n",
    "lr2 = lab_result.groupby('lab_result_2').amount.mean().sort_values()\n",
    "lr3 = lab_result.groupby('lab_result_3').amount.mean().sort_values()\n",
    "\n",
    "PM_T = preop_medication.groupby('PM_total').amount.mean()\n",
    "\n",
    "fig, axs = plt.subplots(1, 3)\n",
    "plt.gcf().set_size_inches((12,8))\n",
    "\n",
    "LR = [lr1,lr2,lr3]\n",
    "print(LR)\n",
    "axs[0].plot(lr1)\n",
    "axs[0].set_title(\"Amount Billed vs Lab Result 1\", fontsize=14);\n",
    "\n",
    "axs[1].plot(lr2)\n",
    "axs[1].set_title(\"Amount Billed vs Lab Result 2\", fontsize=14);\n",
    "\n",
    "axs[2].plot(lr3)\n",
    "axs[2].set_title(\"Amount Billed vs Lab Result 3\", fontsize=14);\n",
    "\n",
    "\n",
    "plt.suptitle(\"Amount Billed vs Lab Results\", fontsize=18);\n",
    "plt.savefig(\"Amount Billed vs Lab Results.png\")\n",
    "\n"
   ]
  }
 ],
 "metadata": {
  "kernelspec": {
   "display_name": "Python 3",
   "language": "python",
   "name": "python3"
  },
  "language_info": {
   "codemirror_mode": {
    "name": "ipython",
    "version": 3
   },
   "file_extension": ".py",
   "mimetype": "text/x-python",
   "name": "python",
   "nbconvert_exporter": "python",
   "pygments_lexer": "ipython3",
   "version": "3.7.6"
  }
 },
 "nbformat": 4,
 "nbformat_minor": 5
}
